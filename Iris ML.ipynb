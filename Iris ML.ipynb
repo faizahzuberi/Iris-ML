{
 "cells": [
  {
   "cell_type": "code",
   "execution_count": 18,
   "metadata": {},
   "outputs": [
    {
     "name": "stdout",
     "output_type": "stream",
     "text": [
      "LR: 0.966667 (0.040825)\n",
      "LDA: 0.975000 (0.038188)\n",
      "KNN: 0.983333 (0.033333)\n",
      "CART: 0.975000 (0.038188)\n",
      "NB: 0.975000 (0.053359)\n",
      "SVM: 0.991667 (0.025000)\n"
     ]
    },
    {
     "data": {
      "image/png": "[encoded data removed]",
      "text/plain": [
       "<Figure size 432x288 with 1 Axes>"
      ]
     },
     "metadata": {
      "needs_background": "light"
     },
     "output_type": "display_data"
    },
    {
     "name": "stdout",
     "output_type": "stream",
     "text": [
      "0.9\n",
      "[[ 7  0  0]\n",
      " [ 0 11  1]\n",
      " [ 0  2  9]]\n",
      "                 precision    recall  f1-score   support\n",
      "\n",
      "    Iris-setosa       1.00      1.00      1.00         7\n",
      "Iris-versicolor       0.85      0.92      0.88        12\n",
      " Iris-virginica       0.90      0.82      0.86        11\n",
      "\n",
      "       accuracy                           0.90        30\n",
      "      macro avg       0.92      0.91      0.91        30\n",
      "   weighted avg       0.90      0.90      0.90        30\n",
      "\n"
     ]
    }
   ],
   "source": [
    "# https://machinelearningmastery.com/machine-learning-in-python-step-by-step/\n",
    "# Load libraries\n",
    "import pandas\n",
    "from pandas.plotting import scatter_matrix\n",
    "\n",
    "import matplotlib.pyplot as plt\n",
    "\n",
    "from sklearn import model_selection\n",
    "from sklearn.metrics import classification_report\n",
    "from sklearn.metrics import confusion_matrix\n",
    "from sklearn.metrics import accuracy_score\n",
    "from sklearn.linear_model import LogisticRegression\n",
    "from sklearn.tree import DecisionTreeClassifier\n",
    "from sklearn.neighbors import KNeighborsClassifier\n",
    "from sklearn.discriminant_analysis import LinearDiscriminantAnalysis\n",
    "from sklearn.naive_bayes import GaussianNB\n",
    "from sklearn.svm import SVC\n",
    "\n",
    "#Load dataset\n",
    "url= \"https://raw.githubusercontent.com/jbrownlee/Datasets/master/iris.csv\"\n",
    "names= ['sepal-length', 'sepal-width', 'petal-length', 'petal-width', 'class']\n",
    "dataset= pandas.read_csv(url, names=names)\n",
    "\n",
    "#how many rows and columns data set has\n",
    "print(dataset.shape)\n",
    "\n",
    "#look at data\n",
    "print(dataset.head(20))\n",
    "\n",
    "#statistical summary of the data\n",
    "print(dataset.describe())\n",
    "\n",
    "#class distribution- see the number of rows that belong to each class\n",
    "print(dataset.groupby('class').size())\n",
    "\n",
    "#box and whisker plots\n",
    "dataset.plot(kind='box', subplots= True, layout=(2,2), sharex= False, sharey= False)\n",
    "plt.show()\n",
    "\n",
    "#histograms\n",
    "dataset.hist()\n",
    "plt.show()\n",
    "\n",
    "#scatter plot matrix\n",
    "scatter_matrix(dataset)\n",
    "plt.show()\n",
    "#there is a linear relationship, showing a high correlation and a predictable relationship\n",
    "\n",
    "#split data- 80% to train, 20% to test\n",
    "array= dataset.values\n",
    "X= array[:,0:4] #slicing array data[from:to]\n",
    "Y= array[:,4]\n",
    "validation_size=0.20\n",
    "seed = 7\n",
    "X_train, X_validation, Y_train, Y_validation=model_selection.train_test_split(X,Y, test_size=validation_size, random_state=seed)\n",
    "\n",
    "\n",
    "# Test options- splits dataset into 10 parts, trains on 9 and tests on 1\n",
    "seed=7 #random number generator , use random number generator so data set isn't too small and ML works for only certain situations\n",
    "scoring='accuracy'\n",
    "\n",
    "#Build and evaluate Models- comparing different models \n",
    "#models.append(short nickname, actual name)\n",
    "models =[] \n",
    "models.append(('LR', LogisticRegression(solver='liblinear', multi_class='ovr')))\n",
    "models.append(('LDA', LinearDiscriminantAnalysis()))\n",
    "models.append(('KNN', KNeighborsClassifier()))\n",
    "models.append(('CART',DecisionTreeClassifier()))\n",
    "models.append(('NB', GaussianNB()))\n",
    "models.append(('SVM', SVC(gamma='auto')))\n",
    "\n",
    "#evaluate each model in turn with 10=fold cross validation procedure, have same random seed to make sure that the same splits to the training data are performed and each algorithm is evaluated in the same way\n",
    "results = []\n",
    "names =[]\n",
    "for name, model in models:\n",
    "    kfold= model_selection.KFold(n_splits=10, random_state=seed)\n",
    "    cv_results= model_selection.cross_val_score(model, X_train, Y_train, cv=kfold,scoring=scoring)\n",
    "    results.append(cv_results)\n",
    "    names.append(name)\n",
    "    msg=\"%s: %f (%f)\" %(name, cv_results.mean(), cv_results.std())\n",
    "    print(msg)\n",
    "# result of this= Nickname: mean accuracy (standard deviation accuracy)\n",
    "\n",
    "#compare algorithms with a boxplot\n",
    "fig = plt.figure()\n",
    "fig.suptitle('Algoritm Comparison')\n",
    "ax = fig.add_subplot(111)\n",
    "plt.boxplot(results)\n",
    "ax.set_xticklabels(names)\n",
    "plt.show()\n",
    "\n",
    "#Make predictions on validation dataset- run the KNN model directly on the validation set and summarize the results as a final accuracy score- a confusion matrix and a classification report\n",
    "knn = KNeighborsClassifier()\n",
    "knn.fit(X_train, Y_train)\n",
    "predictions = knn.predict(X_validation)\n",
    "print(accuracy_score(Y_validation, predictions))\n",
    "print(confusion_matrix(Y_validation, predictions))\n",
    "print(classification_report(Y_validation, predictions))"
   ]
  },
  {
   "cell_type": "code",
   "execution_count": null,
   "metadata": {},
   "outputs": [],
   "source": []
  }
 ],
 "metadata": {
  "kernelspec": {
   "display_name": "Python 3",
   "language": "python",
   "name": "python3"
  },
  "language_info": {
   "codemirror_mode": {
    "name": "ipython",
    "version": 3
   },
   "file_extension": ".py",
   "mimetype": "text/x-python",
   "name": "python",
   "nbconvert_exporter": "python",
   "pygments_lexer": "ipython3",
   "version": "3.7.3"
  }
 },
 "nbformat": 4,
 "nbformat_minor": 2
}
